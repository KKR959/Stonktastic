{
 "cells": [
  {
   "cell_type": "markdown",
   "metadata": {},
   "source": [
    "## Random Forest in Stonktastic\n",
    "***"
   ]
  },
  {
   "cell_type": "markdown",
   "metadata": {},
   "source": [
    "### Summary:\n",
    "In Stonktastic, we use three machine learning algorithum: Polynomial Regression, Long-Term Short-Term Memory and Random Forest.\n",
    "\n",
    "Random Forest is an ensemble learning method used for classification and regression. A Random Forest model is generally the mean of many different desision tree's that are generated and modeled. By taking an average of many tree's, Random Forest alliviates the problem that desciesion trees often have of overfitting. "
   ]
  },
  {
   "cell_type": "markdown",
   "metadata": {},
   "source": [
    "### Stonktastic's use of Random Forest\n",
    "Random Forest in Stonktastic uses sklearn's following libraries for machine learning calculations:\n",
    "- *Ensemble* library for the Random Forest Regressor to preform the actual machine learning calculations\n",
    "- *Metrics* : Used to get the metrics of the model, namely *mean squared error*\n",
    "\n",
    "##### Data Split\n",
    "We split the data not by randomly selecting 80/20 of the data to fall under Train/Test but instead cut off the last 20% to be used as the testing data itself. \n",
    "\n",
    "##### Saving and Loading\n",
    "To save the data off after our initial calculations are preformed we use the *Pickle* library and save off the results of any calculations to the SQL lite database."
   ]
  },
  {
   "cell_type": "markdown",
   "metadata": {},
   "source": [
    "### Variables and Optimization\n",
    "\n",
    "#### Variables looked at\n",
    "We use two sets of variables in the Polynomial Regression. This includes which data points and what level of polynomial to use for calculations. The value of each is done by ranking options with the results/time taken to preform calculations. "
   ]
  },
  {
   "cell_type": "markdown",
   "metadata": {},
   "source": [
    "#### Preping for Analysis"
   ]
  },
  {
   "cell_type": "code",
   "execution_count": 1,
   "metadata": {},
   "outputs": [],
   "source": [
    "import sys\n",
    "sys.path.append('../')\n",
    "\n",
    "import stonktastic\n",
    "import pandas as pd\n",
    "import seaborn as sns\n",
    "import matplotlib.pyplot as plt\n",
    "\n",
    "sampleNum = 200"
   ]
  },
  {
   "cell_type": "markdown",
   "metadata": {},
   "source": [
    "#### Pull Optimized Data DataFrame"
   ]
  },
  {
   "cell_type": "code",
   "execution_count": 2,
   "metadata": {
    "scrolled": true
   },
   "outputs": [
    {
     "name": "stdout",
     "output_type": "stream",
     "text": [
      "==========================\n",
      "Random Forest Optimization\n",
      "==========================\n",
      "SNP | Optimized Variables  : StochK, StochD, WILLR, Close, Date\n",
      "SNP | Optimized Estimators : 10\n"
     ]
    }
   ],
   "source": [
    "ranForOpt = stonkCode.optimization.runRanForOptimization(stonkCode.config.stockToOpt)"
   ]
  },
  {
   "cell_type": "markdown",
   "metadata": {},
   "source": [
    "### Random Forest Variables\n",
    "We will be using the *Optimization* part of the script to look at the variables and graph the results of our choices"
   ]
  },
  {
   "cell_type": "markdown",
   "metadata": {},
   "source": [
    "#### Exploring Subset of the Initial Variables"
   ]
  },
  {
   "cell_type": "code",
   "execution_count": 3,
   "metadata": {
    "scrolled": true
   },
   "outputs": [
    {
     "name": "stdout",
     "output_type": "stream",
     "text": [
      "Optimized Subset for Random Forest : StochK, StochD, WILLR, Close, Date\n"
     ]
    }
   ],
   "source": [
    "df = ranForOpt.subDf.copy(deep=True)\n",
    "df.sort_values(by='score', ascending=False, inplace=True)\n",
    "df = df.reset_index(drop=True)\n",
    "\n",
    "print(f\"Optimized Subset for Random Forest : {', '.join(ranForOpt.optSubSet)}\")"
   ]
  },
  {
   "cell_type": "code",
   "execution_count": 4,
   "metadata": {},
   "outputs": [
    {
     "data": {
      "text/html": [
       "<div>\n",
       "<style scoped>\n",
       "    .dataframe tbody tr th:only-of-type {\n",
       "        vertical-align: middle;\n",
       "    }\n",
       "\n",
       "    .dataframe tbody tr th {\n",
       "        vertical-align: top;\n",
       "    }\n",
       "\n",
       "    .dataframe thead th {\n",
       "        text-align: right;\n",
       "    }\n",
       "</style>\n",
       "<table border=\"1\" class=\"dataframe\">\n",
       "  <thead>\n",
       "    <tr style=\"text-align: right;\">\n",
       "      <th></th>\n",
       "      <th>subset</th>\n",
       "      <th>results</th>\n",
       "      <th>time</th>\n",
       "      <th>score</th>\n",
       "      <th>numOfVariables</th>\n",
       "    </tr>\n",
       "  </thead>\n",
       "  <tbody>\n",
       "    <tr>\n",
       "      <th>0</th>\n",
       "      <td>(StochK, StochD, WILLR, Close, Date)</td>\n",
       "      <td>0.997227</td>\n",
       "      <td>0.070651</td>\n",
       "      <td>14.114862</td>\n",
       "      <td>5</td>\n",
       "    </tr>\n",
       "    <tr>\n",
       "      <th>1</th>\n",
       "      <td>(BBMiddleBand, BBLowerBand, StochD, Close, Date)</td>\n",
       "      <td>0.998239</td>\n",
       "      <td>0.070836</td>\n",
       "      <td>14.092243</td>\n",
       "      <td>5</td>\n",
       "    </tr>\n",
       "    <tr>\n",
       "      <th>2</th>\n",
       "      <td>(BBMiddleBand, BBLowerBand, EMA, Close, Date)</td>\n",
       "      <td>0.998108</td>\n",
       "      <td>0.071197</td>\n",
       "      <td>14.018902</td>\n",
       "      <td>5</td>\n",
       "    </tr>\n",
       "    <tr>\n",
       "      <th>3</th>\n",
       "      <td>(BBLowerBand, StochD, WILLR, Close, Date)</td>\n",
       "      <td>0.997640</td>\n",
       "      <td>0.071264</td>\n",
       "      <td>13.999214</td>\n",
       "      <td>5</td>\n",
       "    </tr>\n",
       "    <tr>\n",
       "      <th>4</th>\n",
       "      <td>(MACDHist, BBMiddleBand, Chaikin, Close, Date)</td>\n",
       "      <td>0.997883</td>\n",
       "      <td>0.071369</td>\n",
       "      <td>13.982035</td>\n",
       "      <td>5</td>\n",
       "    </tr>\n",
       "    <tr>\n",
       "      <th>...</th>\n",
       "      <td>...</td>\n",
       "      <td>...</td>\n",
       "      <td>...</td>\n",
       "      <td>...</td>\n",
       "      <td>...</td>\n",
       "    </tr>\n",
       "    <tr>\n",
       "      <th>4012</th>\n",
       "      <td>(SAR, MACDHist, BBLowerBand, StochK, StochD, C...</td>\n",
       "      <td>0.997599</td>\n",
       "      <td>0.202936</td>\n",
       "      <td>4.915825</td>\n",
       "      <td>7</td>\n",
       "    </tr>\n",
       "    <tr>\n",
       "      <th>4013</th>\n",
       "      <td>(MACDHist, BBMiddleBand, BBLowerBand, EMA, Sto...</td>\n",
       "      <td>0.998306</td>\n",
       "      <td>0.203645</td>\n",
       "      <td>4.902186</td>\n",
       "      <td>8</td>\n",
       "    </tr>\n",
       "    <tr>\n",
       "      <th>4014</th>\n",
       "      <td>(SAR, BBUpperBand, BBMiddleBand, BBLowerBand, ...</td>\n",
       "      <td>0.998434</td>\n",
       "      <td>0.204601</td>\n",
       "      <td>4.879907</td>\n",
       "      <td>7</td>\n",
       "    </tr>\n",
       "    <tr>\n",
       "      <th>4015</th>\n",
       "      <td>(CCI, BBUpperBand, BBMiddleBand, BBLowerBand, ...</td>\n",
       "      <td>0.998337</td>\n",
       "      <td>0.213973</td>\n",
       "      <td>4.665715</td>\n",
       "      <td>7</td>\n",
       "    </tr>\n",
       "    <tr>\n",
       "      <th>4016</th>\n",
       "      <td>(SAR, CCI, BBUpperBand, BBMiddleBand, BBLowerB...</td>\n",
       "      <td>0.998147</td>\n",
       "      <td>0.216072</td>\n",
       "      <td>4.619511</td>\n",
       "      <td>8</td>\n",
       "    </tr>\n",
       "  </tbody>\n",
       "</table>\n",
       "<p>4017 rows × 5 columns</p>\n",
       "</div>"
      ],
      "text/plain": [
       "                                                 subset   results      time  \\\n",
       "0                  (StochK, StochD, WILLR, Close, Date)  0.997227  0.070651   \n",
       "1      (BBMiddleBand, BBLowerBand, StochD, Close, Date)  0.998239  0.070836   \n",
       "2         (BBMiddleBand, BBLowerBand, EMA, Close, Date)  0.998108  0.071197   \n",
       "3             (BBLowerBand, StochD, WILLR, Close, Date)  0.997640  0.071264   \n",
       "4        (MACDHist, BBMiddleBand, Chaikin, Close, Date)  0.997883  0.071369   \n",
       "...                                                 ...       ...       ...   \n",
       "4012  (SAR, MACDHist, BBLowerBand, StochK, StochD, C...  0.997599  0.202936   \n",
       "4013  (MACDHist, BBMiddleBand, BBLowerBand, EMA, Sto...  0.998306  0.203645   \n",
       "4014  (SAR, BBUpperBand, BBMiddleBand, BBLowerBand, ...  0.998434  0.204601   \n",
       "4015  (CCI, BBUpperBand, BBMiddleBand, BBLowerBand, ...  0.998337  0.213973   \n",
       "4016  (SAR, CCI, BBUpperBand, BBMiddleBand, BBLowerB...  0.998147  0.216072   \n",
       "\n",
       "          score  numOfVariables  \n",
       "0     14.114862               5  \n",
       "1     14.092243               5  \n",
       "2     14.018902               5  \n",
       "3     13.999214               5  \n",
       "4     13.982035               5  \n",
       "...         ...             ...  \n",
       "4012   4.915825               7  \n",
       "4013   4.902186               8  \n",
       "4014   4.879907               7  \n",
       "4015   4.665715               7  \n",
       "4016   4.619511               8  \n",
       "\n",
       "[4017 rows x 5 columns]"
      ]
     },
     "execution_count": 4,
     "metadata": {},
     "output_type": "execute_result"
    }
   ],
   "source": [
    "df"
   ]
  },
  {
   "cell_type": "markdown",
   "metadata": {},
   "source": [
    "#### Explore Variable Weight"
   ]
  },
  {
   "cell_type": "code",
   "execution_count": 5,
   "metadata": {},
   "outputs": [],
   "source": [
    "ranForVariables = [\"SAR\",\"RSI\",\"CCI\",\"MACDHist\", \"BBUpperBand\",\n",
    "                    \"BBMiddleBand\",\"BBLowerBand\",\"EMA\", \"Chaikin\",\n",
    "                    \"StochK\",\"StochD\",\"WILLR\"]\n",
    "RowCount        = [0,0,0,0,0,0,0,0,0,0,0,0] \n",
    "\n",
    "\n",
    "ranForCounterDataframe = pd.DataFrame(RowCount,index=ranForVariables, columns=['Count'])\n"
   ]
  },
  {
   "cell_type": "code",
   "execution_count": 6,
   "metadata": {},
   "outputs": [],
   "source": [
    "for idx, subsetList in enumerate(df[\"subset\"].values.tolist()):\n",
    "    for variable in ranForVariables:\n",
    "        if variable in subsetList:\n",
    "            ranForCounterDataframe.at[variable,'Count'] = (  ranForCounterDataframe.at[variable, 'Count'] + int(len(df) - idx)  )\n",
    "            "
   ]
  },
  {
   "cell_type": "code",
   "execution_count": 7,
   "metadata": {},
   "outputs": [],
   "source": [
    "ranForCounterDataframe.sort_values(by='Count', ascending=False, inplace=True)\n",
    "\n",
    "#Normalize Data\n",
    "lowestScore = ranForCounterDataframe['Count'].iloc[-1]\n",
    "ranForCounterDataframe['Count'] = ranForCounterDataframe['Count'] - lowestScore\n",
    "\n",
    "# Get percentages of Data\n",
    "countSum = ranForCounterDataframe[\"Count\"].sum()\n",
    "ranForCounterDataframe['Count'] = ranForCounterDataframe['Count'].multiply((1/countSum)*100)\n",
    "\n",
    "ranForCounterDataframe.drop(ranForCounterDataframe.tail(1).index, inplace = True) \n"
   ]
  },
  {
   "cell_type": "markdown",
   "metadata": {},
   "source": [
    "#### Exploring the relationship between number of variables and results"
   ]
  },
  {
   "cell_type": "code",
   "execution_count": 8,
   "metadata": {},
   "outputs": [
    {
     "data": {
      "image/png": "[encoded data removed]",
      "text/plain": [
       "<Figure size 432x432 with 1 Axes>"
      ]
     },
     "metadata": {
      "needs_background": "light"
     },
     "output_type": "display_data"
    }
   ],
   "source": [
    "g = sns.catplot(\n",
    "    data=ranForCounterDataframe, kind=\"bar\",\n",
    "    x=\"Count\", y=ranForCounterDataframe.index.values, palette=\"dark\", alpha=0.8, height=6,\n",
    "    legend=False\n",
    ")"
   ]
  },
  {
   "cell_type": "code",
   "execution_count": 10,
   "metadata": {
    "scrolled": true
   },
   "outputs": [
    {
     "data": {
      "text/plain": [
       "<seaborn.axisgrid.FacetGrid at 0x7fc72e708550>"
      ]
     },
     "execution_count": 10,
     "metadata": {},
     "output_type": "execute_result"
    },
    {
     "data": {
      "image/png": "[encoded data removed]",
      "text/plain": [
       "<Figure size 360x360 with 1 Axes>"
      ]
     },
     "metadata": {},
     "output_type": "display_data"
    }
   ],
   "source": [
    "sns.set_theme(style=\"whitegrid\")\n",
    "\n",
    "cmap = sns.cubehelix_palette(rot=-.6, as_cmap=True)\n",
    "\n",
    "g = sns.relplot(\n",
    "    data=df.sample(1000),\n",
    "    x=\"results\", y=\"time\",\n",
    "    palette=cmap, s=20\n",
    ")\n",
    "\n",
    "g.set(xlim=(0.996, None))\n",
    "\n",
    "g.set(yscale=\"log\")\n",
    "g.ax.xaxis.grid(True, \"minor\", linewidth=.25)\n",
    "g.ax.yaxis.grid(True, \"minor\", linewidth=.25)\n",
    "g.despine(left=True, bottom=True)"
   ]
  },
  {
   "cell_type": "markdown",
   "metadata": {},
   "source": [
    "### Estimators \n",
    "Estimators are the number of Trees used in random forest simulation. \n",
    "\n",
    "We will be using the *Optimization* part of the script to look at the variables and graph the results of our choices. We want to know if the additional time required by the algorithum to preform the calculation using different power levels is worth the additional time and resource cost associated. "
   ]
  },
  {
   "cell_type": "code",
   "execution_count": 11,
   "metadata": {
    "scrolled": true
   },
   "outputs": [
    {
     "data": {
      "text/html": [
       "<div>\n",
       "<style scoped>\n",
       "    .dataframe tbody tr th:only-of-type {\n",
       "        vertical-align: middle;\n",
       "    }\n",
       "\n",
       "    .dataframe tbody tr th {\n",
       "        vertical-align: top;\n",
       "    }\n",
       "\n",
       "    .dataframe thead th {\n",
       "        text-align: right;\n",
       "    }\n",
       "</style>\n",
       "<table border=\"1\" class=\"dataframe\">\n",
       "  <thead>\n",
       "    <tr style=\"text-align: right;\">\n",
       "      <th></th>\n",
       "      <th>estOption</th>\n",
       "      <th>results</th>\n",
       "      <th>time</th>\n",
       "      <th>score</th>\n",
       "    </tr>\n",
       "  </thead>\n",
       "  <tbody>\n",
       "    <tr>\n",
       "      <th>0</th>\n",
       "      <td>10</td>\n",
       "      <td>0.997763</td>\n",
       "      <td>0.091069</td>\n",
       "      <td>10.956099</td>\n",
       "    </tr>\n",
       "    <tr>\n",
       "      <th>1</th>\n",
       "      <td>20</td>\n",
       "      <td>0.997829</td>\n",
       "      <td>0.157990</td>\n",
       "      <td>6.315767</td>\n",
       "    </tr>\n",
       "    <tr>\n",
       "      <th>2</th>\n",
       "      <td>30</td>\n",
       "      <td>0.997724</td>\n",
       "      <td>0.221832</td>\n",
       "      <td>4.497654</td>\n",
       "    </tr>\n",
       "    <tr>\n",
       "      <th>3</th>\n",
       "      <td>40</td>\n",
       "      <td>0.997801</td>\n",
       "      <td>0.289436</td>\n",
       "      <td>3.447395</td>\n",
       "    </tr>\n",
       "    <tr>\n",
       "      <th>4</th>\n",
       "      <td>50</td>\n",
       "      <td>0.997890</td>\n",
       "      <td>0.355197</td>\n",
       "      <td>2.809398</td>\n",
       "    </tr>\n",
       "    <tr>\n",
       "      <th>...</th>\n",
       "      <td>...</td>\n",
       "      <td>...</td>\n",
       "      <td>...</td>\n",
       "      <td>...</td>\n",
       "    </tr>\n",
       "    <tr>\n",
       "      <th>94</th>\n",
       "      <td>950</td>\n",
       "      <td>0.997892</td>\n",
       "      <td>6.468773</td>\n",
       "      <td>0.154263</td>\n",
       "    </tr>\n",
       "    <tr>\n",
       "      <th>95</th>\n",
       "      <td>960</td>\n",
       "      <td>0.997903</td>\n",
       "      <td>6.534662</td>\n",
       "      <td>0.152709</td>\n",
       "    </tr>\n",
       "    <tr>\n",
       "      <th>96</th>\n",
       "      <td>970</td>\n",
       "      <td>0.997916</td>\n",
       "      <td>6.585240</td>\n",
       "      <td>0.151538</td>\n",
       "    </tr>\n",
       "    <tr>\n",
       "      <th>97</th>\n",
       "      <td>980</td>\n",
       "      <td>0.997910</td>\n",
       "      <td>6.747673</td>\n",
       "      <td>0.147890</td>\n",
       "    </tr>\n",
       "    <tr>\n",
       "      <th>98</th>\n",
       "      <td>990</td>\n",
       "      <td>0.997912</td>\n",
       "      <td>6.849802</td>\n",
       "      <td>0.145685</td>\n",
       "    </tr>\n",
       "  </tbody>\n",
       "</table>\n",
       "<p>99 rows × 4 columns</p>\n",
       "</div>"
      ],
      "text/plain": [
       "    estOption   results      time      score\n",
       "0          10  0.997763  0.091069  10.956099\n",
       "1          20  0.997829  0.157990   6.315767\n",
       "2          30  0.997724  0.221832   4.497654\n",
       "3          40  0.997801  0.289436   3.447395\n",
       "4          50  0.997890  0.355197   2.809398\n",
       "..        ...       ...       ...        ...\n",
       "94        950  0.997892  6.468773   0.154263\n",
       "95        960  0.997903  6.534662   0.152709\n",
       "96        970  0.997916  6.585240   0.151538\n",
       "97        980  0.997910  6.747673   0.147890\n",
       "98        990  0.997912  6.849802   0.145685\n",
       "\n",
       "[99 rows x 4 columns]"
      ]
     },
     "execution_count": 11,
     "metadata": {},
     "output_type": "execute_result"
    }
   ],
   "source": [
    "ranForOpt.estimatorsDf"
   ]
  },
  {
   "cell_type": "code",
   "execution_count": 12,
   "metadata": {
    "scrolled": true
   },
   "outputs": [
    {
     "data": {
      "image/png": "[encoded data removed]",
      "text/plain": [
       "<Figure size 360x360 with 1 Axes>"
      ]
     },
     "metadata": {},
     "output_type": "display_data"
    }
   ],
   "source": [
    "g = sns.catplot(data=ranForOpt.estimatorsDf.head(10), x=\"estOption\", y=\"score\",kind=\"bar\", alpha=0.8)"
   ]
  },
  {
   "cell_type": "markdown",
   "metadata": {},
   "source": [
    "### Results\n",
    "\n",
    "##### Subsets\n",
    "We found that the subset : \"SAR, RSI, MACDHist, BBMiddleBand, BBLowerBand, EMA, Chaikin, StochD, Close, Date\" preformed with the highest level of accuracy for the time required. This is the subset of variables that we use in the main calculations though if one required either higher levels of accuracy or a faster processing time, the variables could be tweeked.\n",
    "\n",
    "##### Estimators\n",
    "In the above graph, we can see that there is a sharp decrease in the *score* value after the *10* value in Estimators. This means that using anything more than 10 decision trees for a random forest calculation is not worth it for our purposes. "
   ]
  },
  {
   "cell_type": "code",
   "execution_count": null,
   "metadata": {},
   "outputs": [],
   "source": []
  }
 ],
 "metadata": {
  "kernelspec": {
   "display_name": "Python 3",
   "language": "python",
   "name": "python3"
  },
  "language_info": {
   "codemirror_mode": {
    "name": "ipython",
    "version": 3
   },
   "file_extension": ".py",
   "mimetype": "text/x-python",
   "name": "python",
   "nbconvert_exporter": "python",
   "pygments_lexer": "ipython3",
   "version": "3.9.1"
  }
 },
 "nbformat": 4,
 "nbformat_minor": 2
}
