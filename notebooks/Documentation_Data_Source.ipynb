{
 "cells": [
  {
   "cell_type": "markdown",
   "metadata": {},
   "source": [
    "# Data Source\n",
    "***"
   ]
  },
  {
   "cell_type": "markdown",
   "metadata": {},
   "source": [
    "### Yahoo Finance\n",
    "The majority of the information pulled into the system and processed comes from *Yahoo Finance* one of the top sources for free stock market data. Yahoo Finance used to be considered the golder standard for stock data until they shut down thier API in 2017. However by using the **yfinance** python library we can connect to the new API provided by Yahoo Finance. \n",
    "\n",
    "Library Source : https://github.com/ranaroussi/yfinance\n",
    "\n",
    "#### What data do we need to start?\n",
    "**Tickers** : A list of ticker values is the only thing needed to initialize the program. These can be found from any stock source site and are representative of which companies stock you are looking at. For example: Tesla is (TSLA). Ford Motors is (F).\n",
    "\n",
    "***\n",
    "### What data do we pull?\n",
    "***\n",
    "#### Time Frame\n",
    "We only pull seven years of historical data for each stock\n",
    "\n",
    "\n",
    "#### Meta Data\n",
    "*Short Name* : The actual name of the company\n",
    "<br>\n",
    "*Sector* : This is the economic area the company covers\n",
    "<br>\n",
    "*Full Time Employees* : This value denotes the number of employees in the company\n",
    "<br>\n",
    "*Exchange* : Which stock exchange the company is on\n",
    "\n",
    "#### Daily Data\n",
    "*Date* : This is the date that the record is tied to\n",
    "<br>\n",
    "*Open* : The value of the stock when the markets opened\n",
    "<br>\n",
    "*High* : The highest value the stock reached during that trading day\n",
    "<br>\n",
    "*Low* : The lowest value the stock reached during the trading day\n",
    "<br>\n",
    "*Close* : The value of the stock when the markets closed at the end of the trading day\n",
    "<br>\n",
    "*Volume* : The amount of stock that was traded in that day\n",
    "<br>\n",
    "*Dividends* : The amount of money paid to each stock holder as a dividended during that trading day\n",
    "<br>\n",
    "*Stock Split* : This value shows if the stock split during the trading day and how it split during the day of trading\n",
    "\n",
    "### Location in Code\n",
    "The data here is pulled in with the *Initalize Database* code, saved to *Master DB* sqlite database and is queried with the *SQL Queries* section of the code"
   ]
  },
  {
   "cell_type": "code",
   "execution_count": null,
   "metadata": {},
   "outputs": [],
   "source": []
  }
 ],
 "metadata": {
  "kernelspec": {
   "display_name": "Python 3",
   "language": "python",
   "name": "python3"
  },
  "language_info": {
   "codemirror_mode": {
    "name": "ipython",
    "version": 3
   },
   "file_extension": ".py",
   "mimetype": "text/x-python",
   "name": "python",
   "nbconvert_exporter": "python",
   "pygments_lexer": "ipython3",
   "version": "3.9.1"
  }
 },
 "nbformat": 4,
 "nbformat_minor": 4
}
