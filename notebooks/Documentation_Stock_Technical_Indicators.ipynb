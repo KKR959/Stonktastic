{
 "cells": [
  {
   "cell_type": "markdown",
   "metadata": {},
   "source": [
    "# Stock Technical Indicators\n",
    "***"
   ]
  },
  {
   "cell_type": "markdown",
   "metadata": {},
   "source": [
    "## Parabolic SAR \n",
    "*Developed by* J. Welles Wilder Jr.\n",
    "<br>\n",
    "*Variable in Code* | **SAR**\n",
    "<br>\n",
    "\n",
    "**Description** : Parabolic Sar is an indicator that is used to determine a price direction of an asset as well as attempt to indicate when the price is likely to change. \n",
    "\n",
    "It is calculated by using the *Highest* and the *Lowest* values as well as an acceleration factor commonly set to 0.02 with a maxiumum acceleration of 0.2. \n",
    "\n",
    "It is commonly used to place stop-loss orders but has issues with producing false signals if the stock moves in a-typical dirctions. Its commonly used in conjuction with other stock indicators to offset this problem.\n"
   ]
  },
  {
   "cell_type": "markdown",
   "metadata": {},
   "source": [
    "## Relative Strength Index\n",
    "*Developed by* J. Welles Wilder Jr.\n",
    "<br>\n",
    "*Variable in Code* | **RSI**\n",
    "<br>\n",
    "\n",
    "**Description** : Relative Strength Index or RSI is a momentum indicator used in technical analysis measuring the magnitude of recent price change to suggest whether or not the stock has been *overbought* or is *overvalued*. \n",
    "\n",
    "It is calculated by using the average upward price change and average downward price change over a period of time. This time period is typically set to a 14 day look back period.\n",
    "\n",
    "The value of RSI swings between 0 and 100 with any value over 70 generally showing that the stock is overbought and with any value under 30 generally showing that the stock has been oversold. "
   ]
  },
  {
   "cell_type": "markdown",
   "metadata": {},
   "source": [
    "## Commodity Channel Index\n",
    "*Developed by* Donald Lambert\n",
    "<br>\n",
    "*Variable in Code* | **CCI**\n",
    "<br>\n",
    "\n",
    "**Description** : Commodity Channel Index or CCI measures the current price level relative to the average price over a given period of time. \n",
    "\n",
    "CCI is calculated by determining the difference between the *mean* price of a security and the *average* of the mean over a given time period. \n",
    "\n",
    "Any value over +100 is generally considered to be *overbought* with values under -100 showing that the stock is likely *oversold*. More volatile stocks could need to use different values such as +200/-200. \n"
   ]
  },
  {
   "cell_type": "markdown",
   "metadata": {},
   "source": [
    "## Moving Average Convergence Divergence \n",
    "*Developed by* Gerald Appel\n",
    "<br>\n",
    "*Variable in Code* | MACDHist\n",
    "<br>\n",
    "\n",
    "**Description** : Moving Average Convergence Divergence or MACD is a trend following momentum indicator that shows the relationship between two moving averages of different time frames. Typically these are a 12 day and 26 day period.\n",
    "\n",
    "MACD is calculated by daily by taking the average value of the stock over a *fast* and *slow* time period. Those two values will show as two seperate lines.\n",
    "\n",
    "Though this is a oscillating indicator it is not used to identify overbought or oversold conditions. It does however indicate when the stock is switching between *bearish* and *bullish* conditions that should encourage or discourage trading. "
   ]
  },
  {
   "cell_type": "markdown",
   "metadata": {},
   "source": [
    "## Bollinger Band's\n",
    "*Developed by* John Bollinger\n",
    "<br>\n",
    "*Variable in Code* | BBUpperBand\n",
    "<br>\n",
    "*Variable in Code* | BBMiddleBand\n",
    "<br>\n",
    "*Variable in Code* | BBLowerBand\n",
    "<br>\n",
    "\n",
    "**Description** : Bollinger Bands are a set of trendlines plotted two standard deviations away from a simple moving average. One is on the positive side, the other on the negative side. \n",
    "\n",
    "You can calculate Bollinger Band's by calculating the simple moving average of a stock as well as the standard deviation of the stock over that same time period. You then add the standard deviation to the moving average to get the upper band and subtract the standard deviation from the moving average to get the lower band.\n",
    "\n",
    "It is sometimes used to indicate overbought or oversold conditions but is more commonly used to find times of low volatility called *The Squeeze* or to find *Breakout* events that show large and unexpected price changes that either go above the top bollinger band or below the bottom bollanger band."
   ]
  },
  {
   "cell_type": "markdown",
   "metadata": {},
   "source": [
    "## Exponential Moving Average\n",
    "*Variable in Code* | EMA\n",
    "<br>\n",
    "\n",
    "**Description** : Exponential Moving Average or EMA is a type of moving average that measures trend directions over a given period of time and puts greater weight on more recent changes in the value of a stock. \n",
    "\n",
    "You can calculate the EMA of a stock with the *Current Price* of a stock with the *Previous periods of EMA* as well as the *Exponential Smothing Constant*. The time period exaimined by EMA can vary, however we are using a 30 day average.\n",
    "\n",
    "EMA typically follows the actual value of stocks closer than the SMA or Simple Moving Average. This is the main reason we have chosen to include EMA over SMA."
   ]
  },
  {
   "cell_type": "markdown",
   "metadata": {},
   "source": [
    "## Chaikin Oscillator\n",
    "*Developed by* Marc Chaikin\n",
    "<br>\n",
    "*Variable in Code* | Chaikin\n",
    "<br>\n",
    "\n",
    "**Description** : Marc Chaikin Oscillator measures the accumulated distribution of MACD over a given period of time. This indicator is not commonly used for short term insights, rather to examine the overal business preformance of a company. \n",
    "\n",
    "You can calculate Chaikin Oscillator by first calculating the *Money Flow Multiplier* and multiplying that with the volume to calculate *Money Flow Volume*. This value is used with difference in EMA value over the last 10 days and last 3 days. \n",
    "\n",
    "This indicator relies on the concept that if there are more *buyers* of a stock, the price will go up. Also if there are more *sellers* of a stock the price will go down. While this is often true it often does not capture the entire picture and the estimates can fall short."
   ]
  },
  {
   "cell_type": "markdown",
   "metadata": {},
   "source": [
    "## Stochastics\n",
    "*Developed by* George Lane\n",
    "<br>\n",
    "*Variable in Code* | StochK\n",
    "<br>\n",
    "*Variable in Code* | StochD\n",
    "<br>\n",
    "\n",
    "**Description** : Stochastics (where the projects name comes from, *Stonkcastic*) is an indicator that shows the relationship between a stocks closing price and its price over a given period of time. \n",
    "\n",
    "There are two parts, %K and %D. Finding K involves taking the lowest and highest price of the stock over a given period of time with the latest *Closing* price of the stock. D is calculated by a simple 3 day moving average of K.  \n",
    "\n",
    "The general idea wiht Stochastics is that when a stock is trending upwards, then the closing price will be higher than the daily average. While this is a simple to calculate indicator it is still highly accurate and used widely among traders."
   ]
  },
  {
   "cell_type": "markdown",
   "metadata": {},
   "source": [
    "## Williams Percent Range\n",
    "*Developed by* Larry Williams\n",
    "<br>\n",
    "*Variable in Code* | WILLR\n",
    "<br>\n",
    "\n",
    "**Description** : Williams Percent Range is a type of momentum indicator that moves between 0 and -100 and attempts to show whether a stock is *oversold* or *overbought*. This indicator is very similar to the stocastic indicator and is used in a similar way.\n",
    "\n",
    "You can calculate Williams Percent Range by subtracting the highest high over a 14 day period with the day's close and dividing that value by the highest high over a 14 day period minus the lowest low over a 14 day period. \n",
    "\n",
    "This indicator is used to show how the current value is in relation to the last 14 days of values for the stock. When the value is between -20 and 0 the price is overbought. When the value is between -80 and -100 the stock is oversold. This indicator is often prone to providing false signals of trend changes that may or may not happen."
   ]
  },
  {
   "cell_type": "code",
   "execution_count": null,
   "metadata": {},
   "outputs": [],
   "source": []
  }
 ],
 "metadata": {
  "kernelspec": {
   "display_name": "Python 3",
   "language": "python",
   "name": "python3"
  },
  "language_info": {
   "codemirror_mode": {
    "name": "ipython",
    "version": 3
   },
   "file_extension": ".py",
   "mimetype": "text/x-python",
   "name": "python",
   "nbconvert_exporter": "python",
   "pygments_lexer": "ipython3",
   "version": "3.9.1"
  }
 },
 "nbformat": 4,
 "nbformat_minor": 4
}
