{
 "cells": [
  {
   "cell_type": "markdown",
   "metadata": {},
   "source": [
    "# Structural and Formatting Guide\n",
    "***"
   ]
  },
  {
   "cell_type": "markdown",
   "metadata": {},
   "source": [
    "## Cleaning Up the Code\n",
    "<br />\n",
    "\n",
    "### iSort (5.7.0)\n",
    "*Source* : https://pypi.org/project/isort/\n",
    "<br>\n",
    "\n",
    "*Description* : Used to re-structure and organize library imports. Can be automated to run on save, tox or many other conditions. Can also be run on single file/recursively if you use a .\n",
    "<br>\n",
    "\n",
    "*How to use* : \n",
    "- isort {filename} | sorts a single python script\n",
    "- isort . | Recursively sorts a folder of scripts \n",
    "- Can also be intergrated in to autorun whole project on save/tox file running\n",
    "\n",
    "<br />\n",
    "\n",
    "### Black (20.8b1)\n",
    "*Source* : https://github.com/psf/black\n",
    "<br>\n",
    "\n",
    "*Description* : While python does not have an official style guide or auto formatter, PEP8 is generally the most commonly used style guide. The library *Black* provides a tool to not only identify inconsistencies in stlye but to correct those inconeistencies in the source code. We use this library in conjuction with *iSort* for auto formatting. \n",
    "\n",
    "Black can also be used with a *Continous Integration* system or be linked to *on save* or *on commit* so that it runs with either of those conditions.\n",
    "<br>\n",
    "\n",
    "*How to use* :\n",
    "- black {filename} | This will let is automaticall update a single page\n",
    "- black {foldername} | Recursively cleans up an entire folder of files\n",
    "- black --check . | Checks to see if there are updates that it would make but doesn't make changes\n",
    "- black --check --diff {filename} | Tells you changes it would make on a single script\n",
    "<br>\n",
    "\n",
    "*Other Notes* : \n",
    "- Can be used with Jupyter notebook with an extension\n",
    "- Can be intergrated with IED's for auto-formatting on save/git push"
   ]
  },
  {
   "cell_type": "markdown",
   "metadata": {},
   "source": [
    "## Delinting the Project\n",
    "<br />\n",
    "\n",
    "### Pylint (2.6.0)\n",
    "*Source* : https://pylint.org/\n",
    "<br>\n",
    "\n",
    "*Description* : Often in a project clutter and legacy code continous to pile up and clutter the code, removing them is often difficult and time consuming. Using a de-linting program has become common place in identifying and cleaning up code. \n",
    "\n",
    "Pylint is one of the most widely used of the de-linting libraries for python due to its highly configurable and customizable settings. \n",
    "\n",
    "*How to Use* : pylint {filename} | This provides a score for your code based on docmentation, comment structure and how cluttered the code is.\n",
    "\n",
    "*Guide to use* : https://www.techbeamers.com/pylint-tool/\n",
    "\n",
    "<br />\n",
    "\n",
    "### AutoPep8 (1.5.4)\n",
    "*Source* : https://pypi.org/project/autopep8/\n",
    "<br>\n",
    "\n",
    "*Description* : AutoPep8 is a tool used in conjuction with Pylint that automatically makes changes to your code based on the issues found by pylint in conjuctuin with the PEP 8 style guide. It does not correct everything but cleans up a decent amount so that it doesn't cause deleterious effects to the code \n",
    "\n",
    "*How to Run* : \n",
    "- autopep8 --in-place --aggressive --aggressive {filename}\n",
    "- Can be intergrated as a module \n",
    "- Can be intergrated with Tox as well"
   ]
  },
  {
   "cell_type": "markdown",
   "metadata": {},
   "source": [
    "## Documentation\n",
    "\n",
    "<br />\n",
    "\n",
    "### Sphinx (3.4.1)\n",
    "*Source* : https://www.sphinx-doc.org/en/master/index.html\n",
    "<br>\n",
    "*Description* : Sphinx is used to create the documentation, make files and some configuration files automaticall for your project based on correctly documented code.\n",
    "\n",
    "*Files Created*\n",
    "- *index.rst* : index file for documentation, is similar to a table of contents for the rest of the documentation\n",
    "- *conf.py* : Allows for Sphinx to be customized. \n",
    "- *Makefile & make.bat* : Used to maintain interface for local development\n",
    "- *_build* : Directory that output goes into\n",
    "- *_static* : Stores static files, like images or graphs\n",
    "- *_templates* : Allows override of Sphinx template with an alternative one\n",
    "\n",
    "*Commands to Run*:\n",
    "- *sphinx-quickstart* : Generates the above schema\n",
    "- *make html* : Generates HTML text of documentation and places it in _build\n",
    "\n",
    "*Additional Setup*:\n",
    "- *conf.py*: Need to uncomment the section with import os, import sys and the path variable, then place the path reference for the entire project here\n",
    "- May need to add references here to additional Sphinx extensions if you use any.\n",
    "\n",
    "#### Useful Links for Sphinx\n",
    "*Basic How To*: https://medium.com/@richdayandnight/a-simple-tutorial-on-how-to-document-your-python-project-using-sphinx-and-rinohtype-177c22a15b5b\n",
    "<br>\n",
    "*Official Documentation*: https://sphinx-tutorial.readthedocs.io/start/\n",
    "<br>\n",
    "*Style Guide*: https://documentation-style-guide-sphinx.readthedocs.io/en/latest/style-guide.html\n"
   ]
  },
  {
   "cell_type": "code",
   "execution_count": null,
   "metadata": {},
   "outputs": [],
   "source": []
  }
 ],
 "metadata": {
  "kernelspec": {
   "display_name": "Python 3",
   "language": "python",
   "name": "python3"
  },
  "language_info": {
   "codemirror_mode": {
    "name": "ipython",
    "version": 3
   },
   "file_extension": ".py",
   "mimetype": "text/x-python",
   "name": "python",
   "nbconvert_exporter": "python",
   "pygments_lexer": "ipython3",
   "version": "3.9.1"
  }
 },
 "nbformat": 4,
 "nbformat_minor": 4
}
