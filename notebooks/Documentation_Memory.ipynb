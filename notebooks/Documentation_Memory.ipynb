{
 "cells": [
  {
   "cell_type": "markdown",
   "metadata": {
    "pycharm": {
     "name": "#%% md\n"
    }
   },
   "source": [
    "## Long Short Term Memory in Stonktastic\n",
    "***"
   ]
  },
  {
   "cell_type": "markdown",
   "metadata": {
    "pycharm": {
     "name": "#%% md\n"
    }
   },
   "source": [
    "### Summary:\n",
    "In Stonktastic, we use three machine learning algorithum: Polynomial Regression, Long-Term Short-Term Memory and Random Forest.\n",
    "\n",
    "Long Short Term Memory (LSTM) is a type of recurrent neural network. LSTM consists of memory blocks that each have memory cells. The cell transfers relative information down the \"chain\". Each memory block as well has an input gate, output gate, and forget gate. These gates can write, read, and reset operations. The cell will remember values over time and these gates are what controls our flow of information.\n",
    "The purpose for using an LSTM is for their capability of learning long-term dependency. Due to how the cells carry information and our control of gates, we can feed all of our data over larger periods of time and information that is fed earlier can end up at later time steps in our model.\n",
    "Over our historical stock data, our model will be able to give us more accurate predictions with this long-term capability."
   ]
  },
  {
   "cell_type": "markdown",
   "metadata": {},
   "source": [
    "### Stonktastic's use of Long Short Term Memory\n",
    "LSTM in Stonktastic uses sklearn's following libraries for machine learning calculations:\n",
    "- *Ensemble* library for the LSTM model to preform the actual machine learning calculations\n",
    "- *Metrics* : Used to get the metrics of the model, namely *mean squared error\n",
    "\n",
    "##### Data Split\n",
    "We split the data not by randomly selecting 80/20 of the data to fall under Train/Test but instead cut off the last 20% to be used as the testing data itself. \n",
    "\n",
    "##### Saving and Loading\n",
    "To save the data off after our initial calculations are preformed we use the *Pickle* library and save off the results of any calculations to the SQL lite database."
   ]
  },
  {
   "cell_type": "markdown",
   "metadata": {
    "pycharm": {
     "name": "#%% md\n"
    }
   },
   "source": [
    "### Long Short Term Memory Optimization\n",
    "With this experiment we are creating an LSTM model to predict the pricing of the SMP500 over the period of seven years. Our experiment will be testing three different major parts of the model to figure out how to optimize the model. \n",
    "\n",
    "#### Variable Optimization\n",
    "For the first section we will be testing the best combination of variables for the model to learn from. We have given the model 14 different variables, and the test will find out what set of variables we should use based on the accuracy and how long it took the model to complete that set. The value of each is done by ranking options with the results/time taken to preform calculations.\n",
    "\n",
    "#### Hyper-Parameter Optimization\n",
    "The second section we will be testing is the hyper-parameter optimization, which will be done using Talos. In this section we will be handing Talos a dictionary of different hyper-parameters for it to feed the model such as dropout, units, loss, or batch size. The model will loop through each possible combination of hyper parameters letting us compare the different combinations and finding the model with the best accuracy and loss.\n",
    "\n",
    "#### Epoch Optimization\n",
    "The third section we will be taking a look at is the number of epochs to run. We will be using the callback function of early stopping to determine the optimal point in when to stop our model. The model is given a set number of 100 epochs to run, while the model is running if the model does not see a better loss value over a \"grace\" period of 15 epochs the model will stop itself telling us how many epochs was the optimal number. \n",
    "\n"
   ]
  },
  {
   "cell_type": "markdown",
   "metadata": {},
   "source": [
    "#### Preping for Analysis"
   ]
  },
  {
   "cell_type": "code",
   "execution_count": 31,
   "metadata": {
    "pycharm": {
     "is_executing": false,
     "name": "#%%\n"
    }
   },
   "outputs": [],
   "source": [
    "import sys\n",
    "sys.path.append('../')\n",
    "\n",
    "import stonkCode\n",
    "import pandas as pd\n",
    "import seaborn as sns\n",
    "\n",
    "sampleNum = 200"
   ]
  },
  {
   "cell_type": "markdown",
   "metadata": {},
   "source": [
    "#### Pull Optimization Data"
   ]
  },
  {
   "cell_type": "code",
   "execution_count": 32,
   "metadata": {
    "pycharm": {
     "is_executing": false,
     "name": "#%%\n"
    }
   },
   "outputs": [
    {
     "name": "stdout",
     "output_type": "stream",
     "text": [
      "      Unnamed: 0                                             subset  \\\n",
      "0            589  ('MACDHist', 'BBUpperBand', 'BBMiddleBand', 'B...   \n",
      "1            595  ('MACDHist', 'BBUpperBand', 'BBLowerBand', 'EM...   \n",
      "2            590  ('MACDHist', 'BBUpperBand', 'BBMiddleBand', 'E...   \n",
      "3            423  ('RSI', 'MACDHist', 'BBUpperBand', 'EMA', 'Clo...   \n",
      "4            303  ('SAR', 'MACDHist', 'BBUpperBand', 'EMA', 'Clo...   \n",
      "...          ...                                                ...   \n",
      "4012        3772  ('SAR', 'RSI', 'CCI', 'MACDHist', 'BBLowerBand...   \n",
      "4013        3764  ('SAR', 'RSI', 'CCI', 'MACDHist', 'BBMiddleBan...   \n",
      "4014        2220  ('RSI', 'EMA', 'Chaikin', 'StochK', 'StochD', ...   \n",
      "4015        3899  ('RSI', 'CCI', 'MACDHist', 'BBUpperBand', 'BBL...   \n",
      "4016        3803  ('SAR', 'RSI', 'MACDHist', 'BBUpperBand', 'BBM...   \n",
      "\n",
      "                                          results        time     score  \\\n",
      "0      [0.005113869905471802, 0.9159420132637024]    9.116621  0.100469   \n",
      "1      [0.005627161357551813, 0.9304347634315491]    9.329054  0.099735   \n",
      "2     [0.0048679024912416935, 0.8985507488250732]    9.110637  0.098627   \n",
      "3      [0.008035711944103241, 0.8840579986572266]    9.127592  0.096856   \n",
      "4      [0.005410266108810902, 0.8753623366355896]    9.069747  0.096515   \n",
      "...                                           ...         ...       ...   \n",
      "4012    [0.033406808972358704, 0.260869562625885]   49.632249  0.005256   \n",
      "4013    [0.02671990357339382, 0.3449275493621826]   69.503096  0.004963   \n",
      "4014     [0.03541984409093857, 0.313043475151062]   65.083960  0.004810   \n",
      "4015   [0.02437668666243553, 0.43478259444236755]  101.655313  0.004277   \n",
      "4016   [0.013971616514027119, 0.4492753744125366]  337.430017  0.001331   \n",
      "\n",
      "      numOfVariables  \n",
      "0                  6  \n",
      "1                  6  \n",
      "2                  6  \n",
      "3                  6  \n",
      "4                  6  \n",
      "...              ...  \n",
      "4012              11  \n",
      "4013              11  \n",
      "4014               8  \n",
      "4015              11  \n",
      "4016              11  \n",
      "\n",
      "[4017 rows x 6 columns]\n"
     ]
    }
   ],
   "source": [
    "# epochOpt = stonkCode.optimization.runMemoryOptimization(stonkCode.config.stockToOpt)\n",
    "epochOpt = pd.read_csv('optEpochSet.csv')\n",
    "memoryOpt = pd.read_csv('memSubSet.csv')\n",
    "\n",
    "print(memoryOpt)"
   ]
  },
  {
   "cell_type": "markdown",
   "metadata": {
    "pycharm": {
     "name": "#%% md\n"
    }
   },
   "source": [
    "### Memory Variables\n",
    "We will be using the *Optimization* part of the script to look at the variables and graph the results of our choices\n"
   ]
  },
  {
   "cell_type": "markdown",
   "metadata": {},
   "source": [
    "### Exploring Subset of the Initial Variables"
   ]
  },
  {
   "cell_type": "code",
   "execution_count": 33,
   "metadata": {
    "pycharm": {
     "is_executing": false,
     "name": "#%%\n"
    }
   },
   "outputs": [
    {
     "name": "stdout",
     "output_type": "stream",
     "text": [
      "Optimized Subset for Long Short Term Memory : ('MACDHist', 'BBUpperBand', 'BBMiddleBand', 'BBLowerBand', 'Close', 'Date')\n"
     ]
    }
   ],
   "source": [
    "df = memoryOpt\n",
    "df.sort_values(by='score', ascending=False, inplace=True)\n",
    "df = df.reset_index(drop=True)\n",
    "\n",
    "optSubSet = df['subset'][0]\n",
    "\n",
    "print(f\"Optimized Subset for Long Short Term Memory : {optSubSet}\")"
   ]
  },
  {
   "cell_type": "code",
   "execution_count": null,
   "metadata": {
    "pycharm": {
     "name": "#%%\n"
    }
   },
   "outputs": [],
   "source": [
    "df"
   ]
  },
  {
   "cell_type": "markdown",
   "metadata": {},
   "source": [
    "#### Explore Variable Weight"
   ]
  },
  {
   "cell_type": "code",
   "execution_count": 34,
   "metadata": {
    "pycharm": {
     "is_executing": false,
     "name": "#%%\n"
    }
   },
   "outputs": [],
   "source": [
    "memoryVariables = [\"SAR\",\"RSI\",\"CCI\",\"MACDHist\", \"BBUpperBand\",\n",
    "                    \"BBMiddleBand\",\"BBLowerBand\",\"EMA\", \"Chaikin\",\n",
    "                    \"StochK\",\"StochD\",\"WILLR\"]\n",
    "RowCount        = [0,0,0,0,0,0,0,0,0,0,0,0] \n",
    "\n",
    "\n",
    "memoryCounterDataframe = pd.DataFrame(RowCount,index=memoryVariables, columns=['Count'])"
   ]
  },
  {
   "cell_type": "code",
   "execution_count": 35,
   "metadata": {
    "pycharm": {
     "is_executing": false,
     "name": "#%%\n"
    }
   },
   "outputs": [],
   "source": [
    "for idx, subsetList in enumerate(memoryOpt[\"subset\"].values.tolist()):\n",
    "    for variable in memoryVariables:\n",
    "        if variable in subsetList:\n",
    "            memoryCounterDataframe.at[variable,'Count'] = (  memoryCounterDataframe.at[variable, 'Count'] + \n",
    "                                                             int(len(memoryOpt) - idx)  )\n",
    "            "
   ]
  },
  {
   "cell_type": "code",
   "execution_count": 36,
   "metadata": {
    "pycharm": {
     "is_executing": false,
     "name": "#%%\n"
    }
   },
   "outputs": [
    {
     "name": "stdout",
     "output_type": "stream",
     "text": [
      "                  Count\n",
      "MACDHist      20.356559\n",
      "EMA           13.437808\n",
      "RSI           12.631156\n",
      "SAR           11.473599\n",
      "BBUpperBand   11.282778\n",
      "BBMiddleBand   9.771985\n",
      "CCI            8.617085\n",
      "BBLowerBand    8.112927\n",
      "Chaikin        3.206443\n",
      "StochD         0.972997\n",
      "StochK         0.136665\n"
     ]
    }
   ],
   "source": [
    "memoryCounterDataframe.sort_values(by='Count', ascending=False, inplace=True)\n",
    "\n",
    "#Normalize Data\n",
    "lowestScore = memoryCounterDataframe['Count'].iloc[-1]\n",
    "memoryCounterDataframe['Count'] = memoryCounterDataframe['Count'] - lowestScore\n",
    "\n",
    "# Get percentages of Data\n",
    "countSum = memoryCounterDataframe[\"Count\"].sum()\n",
    "memoryCounterDataframe['Count'] = memoryCounterDataframe['Count'].multiply((1/countSum)*100)\n",
    "\n",
    "memoryCounterDataframe.drop(memoryCounterDataframe.tail(1).index, inplace = True) \n",
    "\n",
    "print(memoryCounterDataframe)"
   ]
  },
  {
   "cell_type": "markdown",
   "metadata": {},
   "source": [
    "#### Exploring the relationship between number of variables and results"
   ]
  },
  {
   "cell_type": "code",
   "execution_count": 37,
   "metadata": {
    "pycharm": {
     "is_executing": false,
     "name": "#%%\n"
    }
   },
   "outputs": [
    {
     "data": {
      "image/png": "[encoded data removed]",
      "text/plain": [
       "<Figure size 432x432 with 1 Axes>"
      ]
     },
     "metadata": {},
     "output_type": "display_data"
    }
   ],
   "source": [
    "g = sns.catplot(\n",
    "    data=memoryCounterDataframe, kind=\"bar\",\n",
    "    x=\"Count\", y=memoryCounterDataframe.index.values, palette=\"dark\", alpha=0.8, height=6,\n",
    "    legend=False\n",
    ")\n"
   ]
  },
  {
   "cell_type": "code",
   "execution_count": 38,
   "metadata": {
    "pycharm": {
     "is_executing": false,
     "name": "#%%\n"
    }
   },
   "outputs": [
    {
     "data": {
      "text/plain": [
       "<seaborn.axisgrid.FacetGrid at 0x23ef1ea3a90>"
      ]
     },
     "execution_count": 38,
     "metadata": {},
     "output_type": "execute_result"
    },
    {
     "data": {
      "image/png": "[encoded data removed]",
      "text/plain": [
       "<Figure size 427.225x360 with 1 Axes>"
      ]
     },
     "metadata": {},
     "output_type": "display_data"
    }
   ],
   "source": [
    "sns.set_theme(style=\"whitegrid\")\n",
    "\n",
    "cmap = sns.cubehelix_palette(rot=-.6, as_cmap=True)\n",
    "\n",
    "g = sns.relplot(\n",
    "    data=memoryOpt.sample(1000),\n",
    "    x=\"results\", y=\"time\",hue=\"score\",\n",
    "    palette=cmap, s=20\n",
    ")\n",
    "\n",
    "g.set(xlim=(0.993, None))\n",
    "\n",
    "g.set(yscale=\"log\")\n",
    "g.ax.xaxis.grid(True, \"minor\", linewidth=.25)\n",
    "g.ax.yaxis.grid(True, \"minor\", linewidth=.25)\n",
    "g.despine(left=True, bottom=True)"
   ]
  },
  {
   "cell_type": "markdown",
   "metadata": {},
   "source": [
    "#### Hyper-Parameter Exploration\n",
    "With this next section we will be testing out different hyper-parameters in a model over 20 epochs with the same list of variables. We want to know which combination of parameters will give us the best accuracy for our model. We will be ignoring the time it takes to complete each set of epochs."
   ]
  },
  {
   "cell_type": "code",
   "execution_count": 39,
   "metadata": {
    "pycharm": {
     "is_executing": false,
     "name": "#%%\n"
    }
   },
   "outputs": [],
   "source": [
    "hyperdf = pd.read_csv('memoryHyperSet.csv')\n",
    "hyperdf.drop(columns=['Unnamed: 0','start', 'end', 'duration', 'round_epochs', 'val_loss', 'val_accuracy'], axis=1, inplace=True)"
   ]
  },
  {
   "cell_type": "markdown",
   "metadata": {
    "pycharm": {
     "name": "#%% md\n"
    }
   },
   "source": [
    "Test results sorted by the best accuracy:"
   ]
  },
  {
   "cell_type": "code",
   "execution_count": 40,
   "metadata": {
    "pycharm": {
     "is_executing": false,
     "name": "#%%\n"
    }
   },
   "outputs": [
    {
     "data": {
      "text/html": [
       "<div>\n",
       "<style scoped>\n",
       "    .dataframe tbody tr th:only-of-type {\n",
       "        vertical-align: middle;\n",
       "    }\n",
       "\n",
       "    .dataframe tbody tr th {\n",
       "        vertical-align: top;\n",
       "    }\n",
       "\n",
       "    .dataframe thead th {\n",
       "        text-align: right;\n",
       "    }\n",
       "</style>\n",
       "<table border=\"1\" class=\"dataframe\">\n",
       "  <thead>\n",
       "    <tr style=\"text-align: right;\">\n",
       "      <th></th>\n",
       "      <th>loss</th>\n",
       "      <th>accuracy</th>\n",
       "      <th>batch_size</th>\n",
       "      <th>dropout</th>\n",
       "      <th>epochs</th>\n",
       "      <th>kernal_initializer</th>\n",
       "      <th>loss.1</th>\n",
       "      <th>optimizer</th>\n",
       "      <th>units</th>\n",
       "    </tr>\n",
       "  </thead>\n",
       "  <tbody>\n",
       "    <tr>\n",
       "      <th>8</th>\n",
       "      <td>0.009713</td>\n",
       "      <td>0.502591</td>\n",
       "      <td>20</td>\n",
       "      <td>0.2</td>\n",
       "      <td>20</td>\n",
       "      <td>glorot_uniform</td>\n",
       "      <td>mean_squared_error</td>\n",
       "      <td>RMSprop</td>\n",
       "      <td>50</td>\n",
       "    </tr>\n",
       "    <tr>\n",
       "      <th>16</th>\n",
       "      <td>0.073165</td>\n",
       "      <td>0.500000</td>\n",
       "      <td>20</td>\n",
       "      <td>0.2</td>\n",
       "      <td>20</td>\n",
       "      <td>glorot_uniform</td>\n",
       "      <td>mean_absolute_error</td>\n",
       "      <td>RMSprop</td>\n",
       "      <td>40</td>\n",
       "    </tr>\n",
       "    <tr>\n",
       "      <th>14</th>\n",
       "      <td>0.069813</td>\n",
       "      <td>0.493523</td>\n",
       "      <td>20</td>\n",
       "      <td>0.2</td>\n",
       "      <td>20</td>\n",
       "      <td>glorot_uniform</td>\n",
       "      <td>mean_absolute_error</td>\n",
       "      <td>Nadam</td>\n",
       "      <td>50</td>\n",
       "    </tr>\n",
       "    <tr>\n",
       "      <th>11</th>\n",
       "      <td>0.067288</td>\n",
       "      <td>0.490933</td>\n",
       "      <td>20</td>\n",
       "      <td>0.2</td>\n",
       "      <td>20</td>\n",
       "      <td>glorot_uniform</td>\n",
       "      <td>mean_absolute_error</td>\n",
       "      <td>Adam</td>\n",
       "      <td>50</td>\n",
       "    </tr>\n",
       "    <tr>\n",
       "      <th>2</th>\n",
       "      <td>0.009765</td>\n",
       "      <td>0.489637</td>\n",
       "      <td>20</td>\n",
       "      <td>0.2</td>\n",
       "      <td>20</td>\n",
       "      <td>glorot_uniform</td>\n",
       "      <td>mean_squared_error</td>\n",
       "      <td>Adam</td>\n",
       "      <td>50</td>\n",
       "    </tr>\n",
       "  </tbody>\n",
       "</table>\n",
       "</div>"
      ],
      "text/plain": [
       "        loss  accuracy  batch_size  dropout  epochs kernal_initializer  \\\n",
       "8   0.009713  0.502591          20      0.2      20     glorot_uniform   \n",
       "16  0.073165  0.500000          20      0.2      20     glorot_uniform   \n",
       "14  0.069813  0.493523          20      0.2      20     glorot_uniform   \n",
       "11  0.067288  0.490933          20      0.2      20     glorot_uniform   \n",
       "2   0.009765  0.489637          20      0.2      20     glorot_uniform   \n",
       "\n",
       "                 loss.1 optimizer  units  \n",
       "8    mean_squared_error   RMSprop     50  \n",
       "16  mean_absolute_error   RMSprop     40  \n",
       "14  mean_absolute_error     Nadam     50  \n",
       "11  mean_absolute_error      Adam     50  \n",
       "2    mean_squared_error      Adam     50  "
      ]
     },
     "execution_count": 40,
     "metadata": {},
     "output_type": "execute_result"
    }
   ],
   "source": [
    "hyperdf = hyperdf.sort_values(by='accuracy', ascending=False)\n",
    "hyperdf.head()"
   ]
  },
  {
   "cell_type": "markdown",
   "metadata": {
    "pycharm": {
     "name": "#%% md\n"
    }
   },
   "source": [
    "Test results sorted by the best loss value:"
   ]
  },
  {
   "cell_type": "code",
   "execution_count": 41,
   "metadata": {
    "pycharm": {
     "is_executing": false,
     "name": "#%%\n"
    }
   },
   "outputs": [
    {
     "data": {
      "text/html": [
       "<div>\n",
       "<style scoped>\n",
       "    .dataframe tbody tr th:only-of-type {\n",
       "        vertical-align: middle;\n",
       "    }\n",
       "\n",
       "    .dataframe tbody tr th {\n",
       "        vertical-align: top;\n",
       "    }\n",
       "\n",
       "    .dataframe thead th {\n",
       "        text-align: right;\n",
       "    }\n",
       "</style>\n",
       "<table border=\"1\" class=\"dataframe\">\n",
       "  <thead>\n",
       "    <tr style=\"text-align: right;\">\n",
       "      <th></th>\n",
       "      <th>loss</th>\n",
       "      <th>accuracy</th>\n",
       "      <th>batch_size</th>\n",
       "      <th>dropout</th>\n",
       "      <th>epochs</th>\n",
       "      <th>kernal_initializer</th>\n",
       "      <th>loss.1</th>\n",
       "      <th>optimizer</th>\n",
       "      <th>units</th>\n",
       "    </tr>\n",
       "  </thead>\n",
       "  <tbody>\n",
       "    <tr>\n",
       "      <th>8</th>\n",
       "      <td>0.009713</td>\n",
       "      <td>0.502591</td>\n",
       "      <td>20</td>\n",
       "      <td>0.2</td>\n",
       "      <td>20</td>\n",
       "      <td>glorot_uniform</td>\n",
       "      <td>mean_squared_error</td>\n",
       "      <td>RMSprop</td>\n",
       "      <td>50</td>\n",
       "    </tr>\n",
       "    <tr>\n",
       "      <th>2</th>\n",
       "      <td>0.009765</td>\n",
       "      <td>0.489637</td>\n",
       "      <td>20</td>\n",
       "      <td>0.2</td>\n",
       "      <td>20</td>\n",
       "      <td>glorot_uniform</td>\n",
       "      <td>mean_squared_error</td>\n",
       "      <td>Adam</td>\n",
       "      <td>50</td>\n",
       "    </tr>\n",
       "    <tr>\n",
       "      <th>7</th>\n",
       "      <td>0.010276</td>\n",
       "      <td>0.479275</td>\n",
       "      <td>20</td>\n",
       "      <td>0.2</td>\n",
       "      <td>20</td>\n",
       "      <td>glorot_uniform</td>\n",
       "      <td>mean_squared_error</td>\n",
       "      <td>RMSprop</td>\n",
       "      <td>40</td>\n",
       "    </tr>\n",
       "    <tr>\n",
       "      <th>5</th>\n",
       "      <td>0.010533</td>\n",
       "      <td>0.463731</td>\n",
       "      <td>20</td>\n",
       "      <td>0.2</td>\n",
       "      <td>20</td>\n",
       "      <td>glorot_uniform</td>\n",
       "      <td>mean_squared_error</td>\n",
       "      <td>Nadam</td>\n",
       "      <td>50</td>\n",
       "    </tr>\n",
       "    <tr>\n",
       "      <th>1</th>\n",
       "      <td>0.010731</td>\n",
       "      <td>0.455959</td>\n",
       "      <td>20</td>\n",
       "      <td>0.2</td>\n",
       "      <td>20</td>\n",
       "      <td>glorot_uniform</td>\n",
       "      <td>mean_squared_error</td>\n",
       "      <td>Adam</td>\n",
       "      <td>40</td>\n",
       "    </tr>\n",
       "  </tbody>\n",
       "</table>\n",
       "</div>"
      ],
      "text/plain": [
       "       loss  accuracy  batch_size  dropout  epochs kernal_initializer  \\\n",
       "8  0.009713  0.502591          20      0.2      20     glorot_uniform   \n",
       "2  0.009765  0.489637          20      0.2      20     glorot_uniform   \n",
       "7  0.010276  0.479275          20      0.2      20     glorot_uniform   \n",
       "5  0.010533  0.463731          20      0.2      20     glorot_uniform   \n",
       "1  0.010731  0.455959          20      0.2      20     glorot_uniform   \n",
       "\n",
       "               loss.1 optimizer  units  \n",
       "8  mean_squared_error   RMSprop     50  \n",
       "2  mean_squared_error      Adam     50  \n",
       "7  mean_squared_error   RMSprop     40  \n",
       "5  mean_squared_error     Nadam     50  \n",
       "1  mean_squared_error      Adam     40  "
      ]
     },
     "execution_count": 41,
     "metadata": {},
     "output_type": "execute_result"
    }
   ],
   "source": [
    "hyperdf = hyperdf.sort_values(by='loss', ascending=True)\n",
    "hyperdf.head()"
   ]
  },
  {
   "cell_type": "markdown",
   "metadata": {
    "pycharm": {
     "name": "#%% md\n"
    }
   },
   "source": [
    "For this test our best run based on our accuracy and loss was:"
   ]
  },
  {
   "cell_type": "code",
   "execution_count": 42,
   "metadata": {
    "pycharm": {
     "is_executing": false,
     "name": "#%%\n"
    }
   },
   "outputs": [
    {
     "data": {
      "text/plain": [
       "loss                          0.00971283\n",
       "accuracy                        0.502591\n",
       "batch_size                            20\n",
       "dropout                              0.2\n",
       "epochs                                20\n",
       "kernal_initializer        glorot_uniform\n",
       "loss.1                mean_squared_error\n",
       "optimizer                        RMSprop\n",
       "units                                 50\n",
       "Name: 8, dtype: object"
      ]
     },
     "execution_count": 42,
     "metadata": {},
     "output_type": "execute_result"
    }
   ],
   "source": [
    "hyperdf.iloc[0]"
   ]
  },
  {
   "cell_type": "code",
   "execution_count": 54,
   "metadata": {
    "pycharm": {
     "is_executing": false,
     "name": "#%%\n"
    }
   },
   "outputs": [
    {
     "data": {
      "image/png": "[encoded data removed]",
      "text/plain": [
       "<Figure size 432x288 with 1 Axes>"
      ]
     },
     "metadata": {},
     "output_type": "display_data"
    }
   ],
   "source": [
    "sns.set_theme(style=\"whitegrid\")\n",
    "\n",
    "cmap = sns.cubehelix_palette(rot=-.6, as_cmap=True)\n",
    "g = sns.scatterplot(\n",
    "    data = hyperdf,\n",
    "    x = 'accuracy',\n",
    "    y = 'loss',\n",
    "    palette = cmap,\n",
    ")\n"
   ]
  },
  {
   "cell_type": "markdown",
   "metadata": {
    "pycharm": {
     "name": "#%% md\n"
    }
   },
   "source": [
    "#### Epoch Exploration\n",
    "We will be using the *Optimization* part of the script to look at the value of cost function for our cross-validation, as well as the value of cost function for our training data. We want to know at which epoch our algorithm should stop at by determining when we are over fitting our model."
   ]
  },
  {
   "cell_type": "code",
   "execution_count": 44,
   "metadata": {
    "pycharm": {
     "is_executing": false,
     "name": "#%%\n"
    }
   },
   "outputs": [
    {
     "name": "stdout",
     "output_type": "stream",
     "text": [
      "     Epoch          Loss     Value\n",
      "0        1  Testing Loss  0.087866\n",
      "1        2  Testing Loss  0.041353\n",
      "2        3  Testing Loss  0.033724\n",
      "3        4  Testing Loss  0.028414\n",
      "4        5  Testing Loss  0.024925\n",
      "..     ...           ...       ...\n",
      "127     62      Val Loss  0.004761\n",
      "128     63      Val Loss  0.004717\n",
      "129     64      Val Loss  0.004689\n",
      "130     65      Val Loss  0.004789\n",
      "131     66      Val Loss  0.004720\n",
      "\n",
      "[132 rows x 3 columns]\n"
     ]
    }
   ],
   "source": [
    "epochdf = epochOpt\n",
    "epochdf.rename(columns= {'value': 'Loss', 'epoch': 'Epoch'})\n",
    "print(epochOpt)\n",
    "# epochdf.dtypes"
   ]
  },
  {
   "cell_type": "code",
   "execution_count": 45,
   "metadata": {
    "pycharm": {
     "is_executing": false,
     "name": "#%%\n"
    }
   },
   "outputs": [
    {
     "data": {
      "text/plain": [
       "[None]"
      ]
     },
     "execution_count": 45,
     "metadata": {},
     "output_type": "execute_result"
    },
    {
     "data": {
      "image/png": "[encoded data removed]",
      "text/plain": [
       "<Figure size 432x288 with 1 Axes>"
      ]
     },
     "metadata": {},
     "output_type": "display_data"
    }
   ],
   "source": [
    "sns.set_theme(style=\"whitegrid\")\n",
    "\n",
    "g = sns.lineplot(data=epochdf, x='Epoch', y='Value', hue='Loss')\n",
    "g.set(xlim=(0.993, None))\n",
    "\n",
    "g.set(yscale=\"log\")"
   ]
  },
  {
   "cell_type": "code",
   "execution_count": 46,
   "metadata": {
    "pycharm": {
     "is_executing": false,
     "name": "#%%\n"
    }
   },
   "outputs": [
    {
     "name": "stdout",
     "output_type": "stream",
     "text": [
      "The model saved the best data off at epoch: 51.0\n"
     ]
    }
   ],
   "source": [
    "length = len(epochdf.index)\n",
    "print(\"The model saved the best data off at epoch:\", length/2-15)"
   ]
  },
  {
   "cell_type": "markdown",
   "metadata": {},
   "source": [
    "### Results\n",
    "\n",
    "##### Variable Subsets\n",
    "We found that the subset : ('MACDHist', 'BBUpperBand', 'BBMiddleBand', 'BBLowerBand', 'Close', 'Date') preformed with the highest level of accuracy for the time required. This is the subset of variables that we use in the main calculations though if one required either higher levels of accuracy or a faster processing time, the variables could be tweaked.\n",
    "\n",
    "#### Hyper-Parameter Set\n",
    "We found that the best set of hyper-parameters : (Batch Size: 20, Dropout: 0.2, Epochs: 20, Kernel Initializer: glorot_uniform, Loss: mean_squared_error, Optimizer: RMSprop, Units: 50) performed with the highest accuracy will also having the lowest loss value. This is the set of hyper-parameters that we will use in the main calculations. This test does not take in to account a varying amount of epochs, different variables between tests, and the time to complete each test.\n",
    "\n",
    "\n",
    "##### Optimal Epochs\n",
    "\n",
    "In the above graph, we can see that as the number of epochs increased, our training loss and validation loss are decreasing as our number of epochs increases. This along with the early stopping function in Keras can help us to determine when we are over-fitting our model. With this test run we have determined that epoch with the best data is epoch 51, the model ran for 66 epochs before early stopping, and the model had a patience of 15 epochs to see if we have an increase in accuracy."
   ]
  }
 ],
 "metadata": {
  "kernelspec": {
   "display_name": "Python 3",
   "language": "python",
   "name": "python3"
  },
  "language_info": {
   "codemirror_mode": {
    "name": "ipython",
    "version": 3
   },
   "file_extension": ".py",
   "mimetype": "text/x-python",
   "name": "python",
   "nbconvert_exporter": "python",
   "pygments_lexer": "ipython3",
   "version": "3.9.1"
  },
  "pycharm": {
   "stem_cell": {
    "cell_type": "raw",
    "metadata": {
     "collapsed": false
    },
    "source": []
   }
  }
 },
 "nbformat": 4,
 "nbformat_minor": 1
}
