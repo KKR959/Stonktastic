{
 "cells": [
  {
   "cell_type": "markdown",
   "metadata": {},
   "source": [
    "# Development Practices\n",
    "***"
   ]
  },
  {
   "cell_type": "markdown",
   "metadata": {},
   "source": [
    "## Local Editable Install\n",
    "In order to have greater accessability to the project from outside the direct folder, we will install the project as a *Local Editable Package*. This also helps with the later push to have the finished project downloadable and installable as a package. \n",
    "\n",
    "The Jupyter notebooks also have easier access with a local install as they only need to import the specific functions in the library from the enviroment rather than using path references. \n",
    "\n",
    "You can install a project as a local editable install with a *setup.py* file and a *setup.cfg* file. \n",
    "\n",
    "> pip install -e .\n",
    "\n",
    "### setup.py\n",
    "\n",
    "\n",
    "### setup.cfg\n",
    "\n",
    "\n",
    "## Pip8 Compliance\n",
    "\n",
    "\n",
    "## Testing Modules\n",
    "\n",
    "## Using Sphnix\n",
    "- Generating RST files automatically : \n",
    "> sphinx-apidoc -f -o source ../..\n",
    "\n",
    "## Conda\n",
    "\n"
   ]
  }
 ],
 "metadata": {
  "kernelspec": {
   "display_name": "Python 3",
   "language": "python",
   "name": "python3"
  },
  "language_info": {
   "codemirror_mode": {
    "name": "ipython",
    "version": 3
   },
   "file_extension": ".py",
   "mimetype": "text/x-python",
   "name": "python",
   "nbconvert_exporter": "python",
   "pygments_lexer": "ipython3",
   "version": "3.9.1"
  }
 },
 "nbformat": 4,
 "nbformat_minor": 4
}
