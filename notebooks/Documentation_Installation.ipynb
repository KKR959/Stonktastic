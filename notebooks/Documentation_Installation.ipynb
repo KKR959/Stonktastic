{
 "cells": [
  {
   "cell_type": "markdown",
   "metadata": {},
   "source": [
    "# Installation Instructions\n",
    "***"
   ]
  },
  {
   "cell_type": "markdown",
   "metadata": {},
   "source": [
    "## Install Conda\n",
    "*Source* : https://docs.anaconda.com/anaconda/install/\n",
    "<br>\n",
    "*Description* :\n",
    "Conda provides an enviroment to develop projects in without the worry of having to manage multiple versions of libraries and installs. For instance, at the time of this projects writing, *Tensorflow* could not handle python 3.8.1 (current version) and instead could only work with python 3.6. Managing a web of those dependencies between projects can be a huge hassle.\n",
    "\n",
    "Conda is thus used to keep each project and its dependencies isolated from one another and provide a large enviroment to develop in.\n",
    "\n",
    "<br>\n",
    "\n",
    "#### Installing Conda\n",
    "To install conda, an install program needs to be run on your computer. Use the link above to find the latest copy for each operating system.\n",
    "\n",
    "<br>\n",
    "\n",
    "#### Creating a Conda enviroment\n",
    "The following command creates a new conda enviroment. Change the name of [myenv] to whatever you want your installation to be called. We used *Stonk* for our conda install.\n",
    "- *conda create -n [myenv] python=3.6*\n",
    "\n",
    "<br>\n",
    "\n",
    "#### Activating and Deactivating a Conda Enviroment\n",
    "This will activate conda in your enviroment. Once active you will need to deactivate it if you want to turn it off.\n",
    "\n",
    "**Activating Conda**\n",
    "- *conda activate [myenv]*\n",
    "\n",
    "**Deactivating Conda**\n",
    "- *conda deactivate [myenv]*\n",
    "\n",
    "<br>\n",
    "\n",
    "## Installing Requirements.txt\n",
    "By using *pip* one can install all of the dependencies for the project at once and with the correct version. \n",
    "\n",
    "1. First, navigate to the correct folder (/Stonktastic/)\n",
    "\n",
    "\n",
    "2. Ensure that you are in a conda enviroment with the below code:\n",
    "- *conda activate [conda enviroment name]*\n",
    "\n",
    "\n",
    "3. Use the below code to install all of the dependencies in a batch. Breakdown for each major library used is referenced in the Documentation file *Python Libraries*\n",
    "- *pip install -r requirements.txt)*\n",
    "\n",
    "<br>\n",
    "\n",
    "## Local Editable Install\n",
    "In order to have greater accessability to the project from outside the direct folder, we will install the project as a *Local Editable Package*. This also helps with the later push to have the finished project downloadable and installable as a package. \n",
    "\n",
    "The Jupyter notebooks also have easier access with a local install as they only need to import the specific functions in the library from the enviroment rather than using path references. \n",
    "\n",
    "You can install a project as a local editable install with a *setup.py* file and a *setup.cfg* file. \n",
    "\n",
    "- *pip install -e .*\n",
    "\n",
    "<br>\n",
    "\n",
    "#### setup.py and Setup.cfg\n",
    "Two files will need to be added to your project in order to preform the local install: *setup.py* and *setup.cfg*. Setup.py requires only two lines of code (refer to projects setup.py for reference) and uses the setup.cfg for the configuration of the local install, namely where it is located and other metadata.\n",
    "\n",
    "<br>\n",
    "\n",
    "## Running the Project\n",
    "Navigate to *Stonktastic/src/* and open the *main.py* file. Listed there are options for running the project. For the first run, its suggested to run the *Full* option as it will preform all tasks nessessary for the project in order.\n"
   ]
  },
  {
   "cell_type": "code",
   "execution_count": null,
   "metadata": {},
   "outputs": [],
   "source": []
  }
 ],
 "metadata": {
  "kernelspec": {
   "display_name": "Python 3",
   "language": "python",
   "name": "python3"
  },
  "language_info": {
   "codemirror_mode": {
    "name": "ipython",
    "version": 3
   },
   "file_extension": ".py",
   "mimetype": "text/x-python",
   "name": "python",
   "nbconvert_exporter": "python",
   "pygments_lexer": "ipython3",
   "version": "3.9.1"
  }
 },
 "nbformat": 4,
 "nbformat_minor": 4
}
