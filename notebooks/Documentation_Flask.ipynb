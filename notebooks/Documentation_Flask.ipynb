{
 "cells": [
  {
   "cell_type": "markdown",
   "metadata": {},
   "source": [
    "# Flask\n",
    "***"
   ]
  },
  {
   "cell_type": "markdown",
   "metadata": {},
   "source": [
    "## What is Flask?\n",
    "Flask is a micro web framework written in Python that allows python script to run on the web (more or less). Using flask does require that the project also contain HTML and often Javascript to run as python does not run natively in the browser. \n",
    "\n",
    "In this project, flask is used to display the data that is being generated on a regular basis with *Stonktastic* in a way that is easy to navigate and use. \n",
    "\n",
    "### Template Source | Flask Datta Able by Appseed\n",
    "*Site : https://appseed.us/admin-dashboards/flask-dashboard-dattaable-pro*\n",
    "<br>\n",
    "*Description*: We use the following template as the basis for our flask app. We did not generate or write any of the CSS files used. The structure of the app is also used from the template. \n",
    "\n",
    "We did however add multiple HTML pages, javascript and python files to the project to alter it in the way that would work best for our project. "
   ]
  },
  {
   "cell_type": "markdown",
   "metadata": {},
   "source": [
    "## Flask Structure\n",
    "\n",
    "<br>\n",
    "\n",
    "#### Upper Level\n",
    "- requirements.txt : Contains the list of dependencies needed for the project\n",
    "- run.py : Runs the app and allows it to be accessed by a browser\n",
    "- App : Contains the project's files\n",
    "\n",
    "<br>\n",
    "\n",
    "#### App Folder\n",
    "- *__init__.py* : Provides the connection between the *run.py* file and the rest of the project, connection the various libraries used and initializing flask.\n",
    "\n",
    "\n",
    "- *code* : Contains the inserted python code used to wrangle the data from the database into a usable format for the HTML files to display.\n",
    "\n",
    "\n",
    "- *configuration.py*: contains the configuration paramaters for this specific installation of flask\n",
    "\n",
    "\n",
    "- *database.db:* Contains the database of usernames and passwords for users on the site. \n",
    "\n",
    "\n",
    "- *form.py*: Backend python for the login and registration pages.\n",
    "\n",
    "\n",
    "- *models.py*: contains parameters for the users of the site and what values they have.\n",
    "\n",
    "\n",
    "- *static*: contains static files such as the images used, css files and javascript files\n",
    "\n",
    "\n",
    "- *templates*: stores all of the HTML templates used for rendering. This is broken into the the *includes* folder that stores universial tempaltes such as the header and navigation, *layouts* that stores the default template for the site that all other templates pull from and finally *pages* that contains the html pages used for each unique page.\n",
    "\n",
    "\n",
    "- *util.py*: Basic supporting utility python page.\n",
    "\n",
    "\n",
    "- *views.py*: Allows for the navigation function to work and provides a framework for the side navigation panel to use."
   ]
  }
 ],
 "metadata": {
  "kernelspec": {
   "display_name": "Python 3",
   "language": "python",
   "name": "python3"
  },
  "language_info": {
   "codemirror_mode": {
    "name": "ipython",
    "version": 3
   },
   "file_extension": ".py",
   "mimetype": "text/x-python",
   "name": "python",
   "nbconvert_exporter": "python",
   "pygments_lexer": "ipython3",
   "version": "3.9.1"
  }
 },
 "nbformat": 4,
 "nbformat_minor": 4
}
